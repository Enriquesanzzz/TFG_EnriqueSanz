{
 "cells": [
  {
   "cell_type": "code",
   "execution_count": null,
   "metadata": {
    "vscode": {
     "languageId": "plaintext"
    }
   },
   "outputs": [],
   "source": [
    "import requests\n",
    "import json\n",
    "\n",
    "# Datos de la API\n",
    "API_KEY = \"Zpka_ed56a7576f47465095a2f3ee1d08c2ca_56c05972\"\n",
    "URL = \"https://heratropic-main-c6ba0ae.d2.zuplo.dev\"\n",
    "\n",
    "# Ruta relativa del video (dentro de la carpeta del TFG)\n",
    "video_path = \"Videos/Autismo1.mp4\"\n",
    "\n",
    "def obtener_presigned_url(filename):\n",
    "    form_data = {\n",
    "        \"filename\": filename,\n",
    "        \"external_vars\": json.dumps({\"id\": \"1\"})\n",
    "    }\n",
    "    headers = {\n",
    "        \"Authorization\": f\"Bearer {API_KEY}\"\n",
    "    }\n",
    "\n",
    "    response = requests.post(f\"{URL}/v1/upload/large\", data=form_data, headers=headers)\n",
    "    if response.status_code == 200:\n",
    "        presigned_url = response.json()[\"response\"][\"upload_url\"]\n",
    "        result_url = response.json()[\"response\"][\"result_url\"]\n",
    "        print(f\"✅ URL de subida recibida: {presigned_url}\")\n",
    "        return presigned_url, result_url\n",
    "    else:\n",
    "        print(f\"❌ Error al obtener la URL: {response.status_code} - {response.text}\")\n",
    "        return None, None\n",
    "\n",
    "def subir_video(presigned_url, video_path):\n",
    "    try:\n",
    "        with open(video_path, \"rb\") as video_file:\n",
    "            response = requests.put(presigned_url, data=video_file, headers={\"Content-Type\": \"video/mp4\"})\n",
    "            if response.status_code == 200:\n",
    "                print(\"✅ Video subido correctamente.\")\n",
    "            else:\n",
    "                print(f\"❌ Error al subir el video: {response.status_code} - {response.text}\")\n",
    "    except Exception as e:\n",
    "        print(f\"❌ Error durante la subida: {str(e)}\")\n",
    "\n",
    "def obtener_resultados(result_url):\n",
    "    headers = {\n",
    "        \"Authorization\": f\"Bearer {API_KEY}\"\n",
    "    }\n",
    "    response = requests.get(f\"{URL}{result_url}\", headers=headers)\n",
    "    if response.status_code == 200:\n",
    "        data = response.json()\n",
    "        print(\"✅ Resultados obtenidos:\")\n",
    "        print(json.dumps(data, indent=4))\n",
    "    else:\n",
    "        print(f\"❌ Error al obtener resultados: {response.status_code} - {response.text}\")\n",
    "\n",
    "# Proceso completo\n",
    "upload_url, result_url = obtener_presigned_url(\"Autismo1.mp4\")\n",
    "if upload_url:\n",
    "    subir_video(upload_url, video_path)\n",
    "\n",
    "if result_url:\n",
    "    obtener_resultados(result_url)"
   ]
  }
 ],
 "metadata": {
  "language_info": {
   "name": "python"
  }
 },
 "nbformat": 4,
 "nbformat_minor": 2
}
